{
  "metadata": {
    "language_info": {
      "codemirror_mode": {
        "name": "python",
        "version": 3
      },
      "file_extension": ".py",
      "mimetype": "text/x-python",
      "name": "python",
      "nbconvert_exporter": "python",
      "pygments_lexer": "ipython3",
      "version": "3.8"
    },
    "kernelspec": {
      "name": "python",
      "display_name": "Python (Pyodide)",
      "language": "python"
    }
  },
  "nbformat_minor": 4,
  "nbformat": 4,
  "cells": [
    {
      "cell_type": "code",
      "source": "import pandas as pd\nimport numpy as np\nfrom matplotlib import pyplot as plt\nfrom sklearn.model_selection import train_test_split\nfrom sklearn.metrics import confusion_matrix\nimport operator\nimport math",
      "metadata": {
        "trusted": true
      },
      "execution_count": 1,
      "outputs": []
    },
    {
      "cell_type": "code",
      "source": "data=pd.read_csv('Iris.csv')",
      "metadata": {
        "trusted": true
      },
      "execution_count": 2,
      "outputs": []
    },
    {
      "cell_type": "code",
      "source": "data.head()",
      "metadata": {
        "trusted": true
      },
      "execution_count": 3,
      "outputs": [
        {
          "execution_count": 3,
          "output_type": "execute_result",
          "data": {
            "text/plain": "   Id  SepalLengthCm  SepalWidthCm  PetalLengthCm  PetalWidthCm      Species\n0   1            5.1           3.5            1.4           0.2  Iris-setosa\n1   2            4.9           3.0            1.4           0.2  Iris-setosa\n2   3            4.7           3.2            1.3           0.2  Iris-setosa\n3   4            4.6           3.1            1.5           0.2  Iris-setosa\n4   5            5.0           3.6            1.4           0.2  Iris-setosa",
            "text/html": "<div>\n<style scoped>\n    .dataframe tbody tr th:only-of-type {\n        vertical-align: middle;\n    }\n\n    .dataframe tbody tr th {\n        vertical-align: top;\n    }\n\n    .dataframe thead th {\n        text-align: right;\n    }\n</style>\n<table border=\"1\" class=\"dataframe\">\n  <thead>\n    <tr style=\"text-align: right;\">\n      <th></th>\n      <th>Id</th>\n      <th>SepalLengthCm</th>\n      <th>SepalWidthCm</th>\n      <th>PetalLengthCm</th>\n      <th>PetalWidthCm</th>\n      <th>Species</th>\n    </tr>\n  </thead>\n  <tbody>\n    <tr>\n      <th>0</th>\n      <td>1</td>\n      <td>5.1</td>\n      <td>3.5</td>\n      <td>1.4</td>\n      <td>0.2</td>\n      <td>Iris-setosa</td>\n    </tr>\n    <tr>\n      <th>1</th>\n      <td>2</td>\n      <td>4.9</td>\n      <td>3.0</td>\n      <td>1.4</td>\n      <td>0.2</td>\n      <td>Iris-setosa</td>\n    </tr>\n    <tr>\n      <th>2</th>\n      <td>3</td>\n      <td>4.7</td>\n      <td>3.2</td>\n      <td>1.3</td>\n      <td>0.2</td>\n      <td>Iris-setosa</td>\n    </tr>\n    <tr>\n      <th>3</th>\n      <td>4</td>\n      <td>4.6</td>\n      <td>3.1</td>\n      <td>1.5</td>\n      <td>0.2</td>\n      <td>Iris-setosa</td>\n    </tr>\n    <tr>\n      <th>4</th>\n      <td>5</td>\n      <td>5.0</td>\n      <td>3.6</td>\n      <td>1.4</td>\n      <td>0.2</td>\n      <td>Iris-setosa</td>\n    </tr>\n  </tbody>\n</table>\n</div>"
          },
          "metadata": {}
        }
      ]
    },
    {
      "cell_type": "code",
      "source": "data.shape",
      "metadata": {
        "trusted": true
      },
      "execution_count": 4,
      "outputs": [
        {
          "execution_count": 4,
          "output_type": "execute_result",
          "data": {
            "text/plain": "(150, 6)"
          },
          "metadata": {}
        }
      ]
    },
    {
      "cell_type": "code",
      "source": "print(\"total data instances of each class in data\")\ndata[\"Species\"].value_counts()",
      "metadata": {
        "trusted": true
      },
      "execution_count": 23,
      "outputs": [
        {
          "name": "stdout",
          "text": "total data instances of each class in data\n",
          "output_type": "stream"
        },
        {
          "execution_count": 23,
          "output_type": "execute_result",
          "data": {
            "text/plain": "Iris-setosa        50\nIris-versicolor    50\nIris-virginica     50\nName: Species, dtype: int64"
          },
          "metadata": {}
        }
      ]
    },
    {
      "cell_type": "code",
      "source": "df = data.values.tolist()",
      "metadata": {
        "trusted": true
      },
      "execution_count": 6,
      "outputs": []
    },
    {
      "cell_type": "code",
      "source": "trainingSet,testSet = train_test_split(df,test_size=0.2,random_state=42)",
      "metadata": {
        "trusted": true
      },
      "execution_count": 7,
      "outputs": []
    },
    {
      "cell_type": "code",
      "source": "len(trainingSet)",
      "metadata": {
        "trusted": true
      },
      "execution_count": 8,
      "outputs": [
        {
          "execution_count": 8,
          "output_type": "execute_result",
          "data": {
            "text/plain": "120"
          },
          "metadata": {}
        }
      ]
    },
    {
      "cell_type": "code",
      "source": "len(testSet)",
      "metadata": {
        "trusted": true
      },
      "execution_count": 9,
      "outputs": [
        {
          "execution_count": 9,
          "output_type": "execute_result",
          "data": {
            "text/plain": "30"
          },
          "metadata": {}
        }
      ]
    },
    {
      "cell_type": "code",
      "source": "trainingSet",
      "metadata": {
        "trusted": true
      },
      "execution_count": 10,
      "outputs": [
        {
          "execution_count": 10,
          "output_type": "execute_result",
          "data": {
            "text/plain": "[[23, 4.6, 3.6, 1.0, 0.2, 'Iris-setosa'],\n [16, 5.7, 4.4, 1.5, 0.4, 'Iris-setosa'],\n [66, 6.7, 3.1, 4.4, 1.4, 'Iris-versicolor'],\n [12, 4.8, 3.4, 1.6, 0.2, 'Iris-setosa'],\n [43, 4.4, 3.2, 1.3, 0.2, 'Iris-setosa'],\n [147, 6.3, 2.5, 5.0, 1.9, 'Iris-virginica'],\n [52, 6.4, 3.2, 4.5, 1.5, 'Iris-versicolor'],\n [28, 5.2, 3.5, 1.5, 0.2, 'Iris-setosa'],\n [5, 5.0, 3.6, 1.4, 0.2, 'Iris-setosa'],\n [33, 5.2, 4.1, 1.5, 0.1, 'Iris-setosa'],\n [143, 5.8, 2.7, 5.1, 1.9, 'Iris-virginica'],\n [86, 6.0, 3.4, 4.5, 1.6, 'Iris-versicolor'],\n [87, 6.7, 3.1, 4.7, 1.5, 'Iris-versicolor'],\n [17, 5.4, 3.9, 1.3, 0.4, 'Iris-setosa'],\n [11, 5.4, 3.7, 1.5, 0.2, 'Iris-setosa'],\n [82, 5.5, 2.4, 3.7, 1.0, 'Iris-versicolor'],\n [134, 6.3, 2.8, 5.1, 1.5, 'Iris-virginica'],\n [138, 6.4, 3.1, 5.5, 1.8, 'Iris-virginica'],\n [76, 6.6, 3.0, 4.4, 1.4, 'Iris-versicolor'],\n [110, 7.2, 3.6, 6.1, 2.5, 'Iris-virginica'],\n [97, 5.7, 2.9, 4.2, 1.3, 'Iris-versicolor'],\n [106, 7.6, 3.0, 6.6, 2.1, 'Iris-virginica'],\n [67, 5.6, 3.0, 4.5, 1.5, 'Iris-versicolor'],\n [1, 5.1, 3.5, 1.4, 0.2, 'Iris-setosa'],\n [123, 7.7, 2.8, 6.7, 2.0, 'Iris-virginica'],\n [68, 5.8, 2.7, 4.1, 1.0, 'Iris-versicolor'],\n [29, 5.2, 3.4, 1.4, 0.2, 'Iris-setosa'],\n [41, 5.0, 3.5, 1.3, 0.3, 'Iris-setosa'],\n [45, 5.1, 3.8, 1.9, 0.4, 'Iris-setosa'],\n [61, 5.0, 2.0, 3.5, 1.0, 'Iris-versicolor'],\n [124, 6.3, 2.7, 4.9, 1.8, 'Iris-virginica'],\n [25, 4.8, 3.4, 1.9, 0.2, 'Iris-setosa'],\n [26, 5.0, 3.0, 1.6, 0.2, 'Iris-setosa'],\n [24, 5.1, 3.3, 1.7, 0.5, 'Iris-setosa'],\n [95, 5.6, 2.7, 4.2, 1.3, 'Iris-versicolor'],\n [40, 5.1, 3.4, 1.5, 0.2, 'Iris-setosa'],\n [96, 5.7, 3.0, 4.2, 1.2, 'Iris-versicolor'],\n [118, 7.7, 3.8, 6.7, 2.2, 'Iris-virginica'],\n [48, 4.6, 3.2, 1.4, 0.2, 'Iris-setosa'],\n [98, 6.2, 2.9, 4.3, 1.3, 'Iris-versicolor'],\n [114, 5.7, 2.5, 5.0, 2.0, 'Iris-virginica'],\n [34, 5.5, 4.2, 1.4, 0.2, 'Iris-setosa'],\n [139, 6.0, 3.0, 4.8, 1.8, 'Iris-virginica'],\n [102, 5.8, 2.7, 5.1, 1.9, 'Iris-virginica'],\n [63, 6.0, 2.2, 4.0, 1.0, 'Iris-versicolor'],\n [85, 5.4, 3.0, 4.5, 1.5, 'Iris-versicolor'],\n [149, 6.2, 3.4, 5.4, 2.3, 'Iris-virginica'],\n [54, 5.5, 2.3, 4.0, 1.3, 'Iris-versicolor'],\n [6, 5.4, 3.9, 1.7, 0.4, 'Iris-setosa'],\n [94, 5.0, 2.3, 3.3, 1.0, 'Iris-versicolor'],\n [112, 6.4, 2.7, 5.3, 1.9, 'Iris-virginica'],\n [50, 5.0, 3.3, 1.4, 0.2, 'Iris-setosa'],\n [36, 5.0, 3.2, 1.2, 0.2, 'Iris-setosa'],\n [81, 5.5, 2.4, 3.8, 1.1, 'Iris-versicolor'],\n [78, 6.7, 3.0, 5.0, 1.7, 'Iris-versicolor'],\n [35, 4.9, 3.1, 1.5, 0.1, 'Iris-setosa'],\n [115, 5.8, 2.8, 5.1, 2.4, 'Iris-virginica'],\n [8, 5.0, 3.4, 1.5, 0.2, 'Iris-setosa'],\n [44, 5.0, 3.5, 1.6, 0.6, 'Iris-setosa'],\n [71, 5.9, 3.2, 4.8, 1.8, 'Iris-versicolor'],\n [99, 5.1, 2.5, 3.0, 1.1, 'Iris-versicolor'],\n [121, 6.9, 3.2, 5.7, 2.3, 'Iris-virginica'],\n [84, 6.0, 2.7, 5.1, 1.6, 'Iris-versicolor'],\n [135, 6.1, 2.6, 5.6, 1.4, 'Iris-virginica'],\n [136, 7.7, 3.0, 6.1, 2.3, 'Iris-virginica'],\n [90, 5.5, 2.5, 4.0, 1.3, 'Iris-versicolor'],\n [9, 4.4, 2.9, 1.4, 0.2, 'Iris-setosa'],\n [14, 4.3, 3.0, 1.1, 0.1, 'Iris-setosa'],\n [120, 6.0, 2.2, 5.0, 1.5, 'Iris-virginica'],\n [126, 7.2, 3.2, 6.0, 1.8, 'Iris-virginica'],\n [4, 4.6, 3.1, 1.5, 0.2, 'Iris-setosa'],\n [18, 5.1, 3.5, 1.4, 0.3, 'Iris-setosa'],\n [39, 4.4, 3.0, 1.3, 0.2, 'Iris-setosa'],\n [73, 6.3, 2.5, 4.9, 1.5, 'Iris-versicolor'],\n [137, 6.3, 3.4, 5.6, 2.4, 'Iris-virginica'],\n [7, 4.6, 3.4, 1.4, 0.3, 'Iris-setosa'],\n [113, 6.8, 3.0, 5.5, 2.1, 'Iris-virginica'],\n [101, 6.3, 3.3, 6.0, 2.5, 'Iris-virginica'],\n [3, 4.7, 3.2, 1.3, 0.2, 'Iris-setosa'],\n [64, 6.1, 2.9, 4.7, 1.4, 'Iris-versicolor'],\n [55, 6.5, 2.8, 4.6, 1.5, 'Iris-versicolor'],\n [127, 6.2, 2.8, 4.8, 1.8, 'Iris-virginica'],\n [51, 7.0, 3.2, 4.7, 1.4, 'Iris-versicolor'],\n [116, 6.4, 3.2, 5.3, 2.3, 'Iris-virginica'],\n [47, 5.1, 3.8, 1.6, 0.2, 'Iris-setosa'],\n [140, 6.9, 3.1, 5.4, 2.1, 'Iris-virginica'],\n [62, 5.9, 3.0, 4.2, 1.5, 'Iris-versicolor'],\n [148, 6.5, 3.0, 5.2, 2.0, 'Iris-virginica'],\n [80, 5.7, 2.6, 3.5, 1.0, 'Iris-versicolor'],\n [60, 5.2, 2.7, 3.9, 1.4, 'Iris-versicolor'],\n [92, 6.1, 3.0, 4.6, 1.4, 'Iris-versicolor'],\n [42, 4.5, 2.3, 1.3, 0.3, 'Iris-setosa'],\n [59, 6.6, 2.9, 4.6, 1.3, 'Iris-versicolor'],\n [91, 5.5, 2.6, 4.4, 1.2, 'Iris-versicolor'],\n [49, 5.3, 3.7, 1.5, 0.2, 'Iris-setosa'],\n [89, 5.6, 3.0, 4.1, 1.3, 'Iris-versicolor'],\n [108, 7.3, 2.9, 6.3, 1.8, 'Iris-virginica'],\n [125, 6.7, 3.3, 5.7, 2.1, 'Iris-virginica'],\n [22, 5.1, 3.7, 1.5, 0.4, 'Iris-setosa'],\n [58, 4.9, 2.4, 3.3, 1.0, 'Iris-versicolor'],\n [145, 6.7, 3.3, 5.7, 2.5, 'Iris-virginica'],\n [130, 7.2, 3.0, 5.8, 1.6, 'Iris-virginica'],\n [38, 4.9, 3.1, 1.5, 0.1, 'Iris-setosa'],\n [141, 6.7, 3.1, 5.6, 2.4, 'Iris-virginica'],\n [2, 4.9, 3.0, 1.4, 0.2, 'Iris-setosa'],\n [53, 6.9, 3.1, 4.9, 1.5, 'Iris-versicolor'],\n [131, 7.4, 2.8, 6.1, 1.9, 'Iris-virginica'],\n [104, 6.3, 2.9, 5.6, 1.8, 'Iris-virginica'],\n [100, 5.7, 2.8, 4.1, 1.3, 'Iris-versicolor'],\n [117, 6.5, 3.0, 5.5, 1.8, 'Iris-virginica'],\n [88, 6.3, 2.3, 4.4, 1.3, 'Iris-versicolor'],\n [75, 6.4, 2.9, 4.3, 1.3, 'Iris-versicolor'],\n [122, 5.6, 2.8, 4.9, 2.0, 'Iris-virginica'],\n [150, 5.9, 3.0, 5.1, 1.8, 'Iris-virginica'],\n [21, 5.4, 3.4, 1.7, 0.2, 'Iris-setosa'],\n [72, 6.1, 2.8, 4.0, 1.3, 'Iris-versicolor'],\n [107, 4.9, 2.5, 4.5, 1.7, 'Iris-virginica'],\n [15, 5.8, 4.0, 1.2, 0.2, 'Iris-setosa'],\n [93, 5.8, 2.6, 4.0, 1.2, 'Iris-versicolor'],\n [103, 7.1, 3.0, 5.9, 2.1, 'Iris-virginica']]"
          },
          "metadata": {}
        }
      ]
    },
    {
      "cell_type": "code",
      "source": "count0 =0 \ncount1 =0\ncount2 =0\nfor i in range(len(trainingSet)):\n  if(trainingSet[i][5]==\"Iris-setosa\"):\n    count0+=1\n  elif(trainingSet[i][5]==\"Iris-versicolor\"):\n    count1+=1\n  elif(trainingSet[i][5]==\"Iris-virginica\"):\n    count2+=1\nprint(\"total data instances of each class in training data\")\nprint(\"Iris-setosa          \",count0)\nprint(\"Iris-versicolor      \",count1)\nprint(\"Iris-virginica       \",count2)",
      "metadata": {
        "trusted": true
      },
      "execution_count": 24,
      "outputs": [
        {
          "name": "stdout",
          "text": "total data instances of each class in training data\nIris-setosa           40\nIris-versicolor       41\nIris-virginica        39\n",
          "output_type": "stream"
        }
      ]
    },
    {
      "cell_type": "code",
      "source": "count0 =0 \ncount1 =0\ncount2 =0\nfor i in range(len(testSet)):\n  if(trainingSet[i][5]==\"Iris-setosa\"):\n    count0+=1\n  elif(trainingSet[i][5]==\"Iris-versicolor\"):\n    count1+=1\n  elif(trainingSet[i][5]==\"Iris-virginica\"):\n    count2+=1\nprint(\"total data instances of each class in testing data\")\nprint(\"Iris-setosa          \",count0)\nprint(\"Iris-versicolor      \",count1)\nprint(\"Iris-virginica       \",count2)",
      "metadata": {
        "trusted": true
      },
      "execution_count": 26,
      "outputs": [
        {
          "name": "stdout",
          "text": "total data instances of each class in testing data\nIris-setosa           13\nIris-versicolor       10\nIris-virginica        7\n",
          "output_type": "stream"
        }
      ]
    },
    {
      "cell_type": "code",
      "source": "def euclidean_distance(x,y,row):\n\tdistance = 0.0\n\tfor i in range(len(row[0])-2):\n\t\tdistance += (float(row[x][i+1]) - float(trainingSet[y][i+1]))**2\n\treturn math.sqrt(distance)",
      "metadata": {
        "trusted": true
      },
      "execution_count": 13,
      "outputs": []
    },
    {
      "cell_type": "code",
      "source": "def nearest(y,k,row):\n    distances = []\n    for x in range(len(row)):\n        dist = euclidean_distance(x,y,row)\n        distances.append((dist,row[x][5]))\n    distances.sort(key=operator.itemgetter(0))\n    neighbors = []\n    for x in range(k):\n        neighbors.append(distances[x][1])\n    return neighbors",
      "metadata": {
        "trusted": true
      },
      "execution_count": 14,
      "outputs": []
    },
    {
      "cell_type": "code",
      "source": "def classpred(neighbors):\n\tclassVotes = {}\n\tfor x in range(len(neighbors)):\n\t\tresponse = neighbors[x]\n\t\tif response in classVotes:\n\t\t\tclassVotes[response] += 1\n\t\telse:\n\t\t\tclassVotes[response] = 1\n\tsortedVotes = sorted(classVotes.items(), key=operator.itemgetter(1), reverse=True)\n\treturn sortedVotes[0][0]",
      "metadata": {
        "trusted": true
      },
      "execution_count": 15,
      "outputs": []
    },
    {
      "cell_type": "code",
      "source": "def Accuracy(testset, predictions):\n\tcorrect = 0\n\tfor x in range(len(testset)):\n\t\tif testset[x][5] == predictions[x]:\n\t\t\tcorrect += 1\n\treturn (correct/float(len(testset))) * 100.0",
      "metadata": {
        "trusted": true
      },
      "execution_count": 16,
      "outputs": []
    },
    {
      "cell_type": "code",
      "source": "def macrof1(testset, predictions):\n  for x in range(len(testset)):\n    if (testset[x][5] == \"Iris-setosa\" and predictions[x] == \"Iris-setosa\"):\n      confusion[0][0]+=1\n    elif (testset[x][5] == \"Iris-setosa\" and predictions[x] == \"Iris-versicolor\"):\n      confusion[1][0]+=1\n    elif (testset[x][5] == \"Iris-setosa\" and predictions[x] == \"Iris-virginica\"):\n      confusion[2][0]+=1\n    elif (testset[x][5] == \"Iris-versicolor\" and predictions[x] == \"Iris-setosa\"):\n      confusion[0][1]+=1 \n    elif (testset[x][5] == \"Iris-versicolor\" and predictions[x] == \"Iris-versicolor\"):\n      confusion[1][1]+=1\n    elif (testset[x][5] == \"Iris-versicolor\" and predictions[x] == \"Iris-virginica\"):\n      confusion[2][1]+=1 \n    elif (testset[x][5] == \"Iris-virginica\" and predictions[x] == \"Iris-setosa\"):\n      confusion[0][2]+=1\n    elif (testset[x][5] == \"Iris-virginica\" and predictions[x] == \"Iris-versicolor\"):\n      confusion[1][2]+=1\n    elif (testset[x][5] == \"Iris-virginica\" and predictions[x] == \"Iris-virginica\"):\n      confusion[2][2]+=1",
      "metadata": {
        "trusted": true
      },
      "execution_count": 17,
      "outputs": []
    },
    {
      "cell_type": "code",
      "source": "def f1(confusionm):\n  p1=confusionm[0][0]/(confusionm[0][0]+confusionm[0][1]+confusionm[0][2])\n  r1=confusionm[0][0]/(confusionm[0][0]+confusionm[1][0]+confusionm[2][0])\n  p2=confusionm[1][1]/(confusionm[1][0]+confusionm[1][1]+confusionm[1][2])\n  r2=confusionm[1][1]/(confusionm[0][1]+confusionm[1][1]+confusionm[2][1])\n  p3=confusionm[2][2]/(confusionm[2][0]+confusionm[2][1]+confusionm[2][2])\n  r3=confusionm[2][2]/(confusionm[0][2]+confusionm[1][2]+confusionm[2][2])\n\n  p=(p1+p2+p3)/3\n  r=(r1+r2+r3)/3\n  score=(2*r*p)/(r+p)\n  return score",
      "metadata": {
        "trusted": true
      },
      "execution_count": 18,
      "outputs": []
    },
    {
      "cell_type": "code",
      "source": "fold1=trainingSet[0:39]\nfold2=trainingSet[40:79]\nfold3=trainingSet[80:119]\ntrainingset1=fold2+fold3\ntrainingset2=fold1+fold3\ntrainingset3=fold1+fold2",
      "metadata": {
        "trusted": true
      },
      "execution_count": 19,
      "outputs": []
    },
    {
      "cell_type": "code",
      "source": "def euclidean_distance(x,y,row):\n\tdistance = 0.0\n\tfor i in range(len(row[0])-2):\n\t\tdistance += (float(row[x][i+1]) - float(trainingSet[y][i+1]))**2\n\treturn math.sqrt(distance)\n\narray=[0,0,0,0,0,0,0,0,0,0,0,0,0,0,0,0,0,0,0,0,0,0,0,0,0]\nmax=0\nkvalue=1\nmaxf=0\nmaxfk=1\nfor i in range(25):\n  confusion=[[0,0,0],[0,0,0],[0,0,0]]\n  predictions1=[]\n  predictions2=[]\n  predictions3=[]\n  k = i+1\n\n  for x in range(len(fold1)):\n      neighbors1 = nearest(x,k,trainingset1)\n      result = classpred(neighbors1)\n      predictions1.append(result)\n\n  macrof1(fold1,predictions1)    \n  accuracy1 = Accuracy(fold1, predictions1)\n  \n\n  for x in range(len(fold2)):\n      neighbors2 = nearest(x+40,k,trainingset2)\n      result = classpred(neighbors2)\n      predictions2.append(result)\n\n  macrof1(fold2,predictions2)    \n  accuracy2 = Accuracy(fold2, predictions2)\n  \n\n\n  for x in range(len(fold3)):\n      neighbors3 = nearest(x+80,k,trainingset3)\n      result = classpred(neighbors3)\n      predictions3.append(result)\n\n  macrof1(fold3,predictions3)   \n  accuracy3 = Accuracy(fold3, predictions3)\n  \n\n  s=f1(confusion)\n  print(\"for value of k = \",k,\" macro f1 score = \",s)\n  array[k-1]=s\n  accuracy=(accuracy1+accuracy2+accuracy3)/3\n  print(\"for value of k = \",k,\" accuracy = \",accuracy)\n  if(accuracy>max):\n    max=accuracy\n    kvalue=k\n  if(s>maxf):\n    maxf=s\n    maxfk=k\nprint(\" \")\nprint(\"value of k with maximum macrof1score is \",maxfk)\nprint(\"value of k with maximum accuracy is \",kvalue)",
      "metadata": {
        "trusted": true
      },
      "execution_count": 20,
      "outputs": [
        {
          "name": "stdout",
          "text": "for value of k =  1  macro f1 score =  0.9568151147098515\nfor value of k =  1  accuracy =  95.72649572649573\nfor value of k =  2  macro f1 score =  0.9568151147098515\nfor value of k =  2  accuracy =  95.72649572649573\nfor value of k =  3  macro f1 score =  0.94804318488529\nfor value of k =  3  accuracy =  94.87179487179488\nfor value of k =  4  macro f1 score =  0.9568151147098515\nfor value of k =  4  accuracy =  95.72649572649573\nfor value of k =  5  macro f1 score =  0.9484583392352296\nfor value of k =  5  accuracy =  94.87179487179488\nfor value of k =  6  macro f1 score =  0.9568151147098515\nfor value of k =  6  accuracy =  95.72649572649573\nfor value of k =  7  macro f1 score =  0.9484583392352296\nfor value of k =  7  accuracy =  94.87179487179488\nfor value of k =  8  macro f1 score =  0.9568151147098515\nfor value of k =  8  accuracy =  95.72649572649573\nfor value of k =  9  macro f1 score =  0.9576298620270911\nfor value of k =  9  accuracy =  95.72649572649573\nfor value of k =  10  macro f1 score =  0.9657889755245068\nfor value of k =  10  accuracy =  96.58119658119658\nfor value of k =  11  macro f1 score =  0.9576298620270911\nfor value of k =  11  accuracy =  95.72649572649573\nfor value of k =  12  macro f1 score =  0.9576298620270911\nfor value of k =  12  accuracy =  95.72649572649573\nfor value of k =  13  macro f1 score =  0.9576298620270911\nfor value of k =  13  accuracy =  95.72649572649573\nfor value of k =  14  macro f1 score =  0.9576298620270911\nfor value of k =  14  accuracy =  95.72649572649573\nfor value of k =  15  macro f1 score =  0.9657889755245068\nfor value of k =  15  accuracy =  96.58119658119658\nfor value of k =  16  macro f1 score =  0.9741340530814215\nfor value of k =  16  accuracy =  97.43589743589742\nfor value of k =  17  macro f1 score =  0.9657889755245068\nfor value of k =  17  accuracy =  96.58119658119658\nfor value of k =  18  macro f1 score =  0.9576298620270911\nfor value of k =  18  accuracy =  95.72649572649573\nfor value of k =  19  macro f1 score =  0.9402757587200334\nfor value of k =  19  accuracy =  94.01709401709401\nfor value of k =  20  macro f1 score =  0.9418115248859495\nfor value of k =  20  accuracy =  94.01709401709401\nfor value of k =  21  macro f1 score =  0.9311277028032416\nfor value of k =  21  accuracy =  93.16239316239317\nfor value of k =  22  macro f1 score =  0.9484583392352296\nfor value of k =  22  accuracy =  94.87179487179488\nfor value of k =  23  macro f1 score =  0.9568151147098515\nfor value of k =  23  accuracy =  95.72649572649573\nfor value of k =  24  macro f1 score =  0.9568151147098515\nfor value of k =  24  accuracy =  95.72649572649573\nfor value of k =  25  macro f1 score =  0.94804318488529\nfor value of k =  25  accuracy =  94.87179487179488\n \nvalue of k with maximum macrof1score is  16\nvalue of k with maximum accuracy is  16\n",
          "output_type": "stream"
        }
      ]
    },
    {
      "cell_type": "code",
      "source": "kva=[]\nfor i in range(25):\n  kva.append(i)\nplt.xlabel('value of k')\nplt.ylabel('macro f1 score')\nplt.plot(kva, array,marker=\"X\")\nplt.show()",
      "metadata": {
        "trusted": true
      },
      "execution_count": 21,
      "outputs": [
        {
          "output_type": "display_data",
          "data": {
            "text/plain": "<pyolite.display.Image at 0x4fdc300>",
            "image/png": "[encoded data removed]"
          },
          "metadata": {}
        }
      ]
    },
    {
      "cell_type": "code",
      "source": "def euclidean_distance(x,y,row):\n\tdistance = 0.0\n\tfor i in range(len(row[0])-2):\n\t\tdistance += (float(row[x][i+1]) - float(testSet[y][i+1]))**2\n\treturn math.sqrt(distance)\n\nconfusion=[[0,0,0],[0,0,0],[0,0,0]]\npredictions=[]\nfor x in range(len(testSet)):\n      neighbors = nearest(x,kvalue,trainingSet)\n      result = classpred(neighbors)\n      predictions.append(result)\nmacrof1(testSet,predictions) \n\naccuracy = Accuracy(testSet, predictions)\n\n\np1=confusion[0][0]/(confusion[0][0]+confusion[0][1]+confusion[0][2])\nr1=confusion[0][0]/(confusion[0][0]+confusion[1][0]+confusion[2][0])\np2=confusion[1][1]/(confusion[1][0]+confusion[1][1]+confusion[1][2])\nr2=confusion[1][1]/(confusion[0][1]+confusion[1][1]+confusion[2][1])\np3=confusion[2][2]/(confusion[2][0]+confusion[2][1]+confusion[2][2])\nr3=confusion[2][2]/(confusion[0][2]+confusion[1][2]+confusion[2][2])\np=(p1+p2+p3)/3\nr=(r1+r2+r3)/3\ns1=(2*r1*p1)/(r1+p1)\ns2=(2*r2*p2)/(r2+p2)\ns3=(2*r3*p3)/(r3+p3)\nscore=(2*r*p)/(r+p)    \nprint(\"confusion matrix =\",confusion) \nprint(\"Test accuracy is = \",accuracy,\"%\")\nprint(\"precision value for class Iris-setosa is \", p1)\nprint(\"precision value for class Iris-versicolor is \", p2)\nprint(\"precision value for class Iris-virginicar is \", p3)\nprint(\"recall value for class Iris-setosa is \", r1)\nprint(\"recall value for class Iris-versicolor is \", r2)\nprint(\"recall value for class Iris-virginicar is \", r3)\nprint(\"f1 score value for class Iris-setosa is \", s1)\nprint(\"f1 score value for class Iris-versicolor is \", s2)\nprint(\"f1 score value for class Iris-virginicar is \", s3)\nprint(\"macro f1 score is = \",score)",
      "metadata": {
        "trusted": true
      },
      "execution_count": 22,
      "outputs": [
        {
          "name": "stdout",
          "text": "confusion matrix = [[10, 0, 0], [0, 9, 0], [0, 0, 11]]\nTest accuracy is =  100.0 %\nprecision value for class Iris-setosa is  1.0\nprecision value for class Iris-versicolor is  1.0\nprecision value for class Iris-virginicar is  1.0\nrecall value for class Iris-setosa is  1.0\nrecall value for class Iris-versicolor is  1.0\nrecall value for class Iris-virginicar is  1.0\nf1 score value for class Iris-setosa is  1.0\nf1 score value for class Iris-versicolor is  1.0\nf1 score value for class Iris-virginicar is  1.0\nmacro f1 score is =  1.0\n",
          "output_type": "stream"
        }
      ]
    }
  ]
}