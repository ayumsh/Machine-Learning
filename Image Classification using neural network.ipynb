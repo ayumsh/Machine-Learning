{
  "nbformat": 4,
  "nbformat_minor": 0,
  "metadata": {
    "colab": {
      "provenance": [],
      "collapsed_sections": []
    },
    "kernelspec": {
      "name": "python3",
      "display_name": "Python 3"
    },
    "language_info": {
      "name": "python"
    }
  },
  "cells": [
    {
      "cell_type": "code",
      "execution_count": null,
      "metadata": {
        "id": "5AxntrS6d064"
      },
      "outputs": [],
      "source": [
        "import numpy as np\n",
        "import torch\n",
        "import torchvision\n",
        "import matplotlib.pyplot as plt\n",
        "from time import time\n",
        "from torchvision import datasets, transforms\n",
        "from torch import nn, optim\n",
        "import pandas as pd\n",
        "from sklearn.preprocessing import MinMaxScaler    \n",
        "from sklearn.model_selection import train_test_split\n",
        "from torch.utils.data import TensorDataset, DataLoader "
      ]
    },
    {
      "cell_type": "code",
      "source": [
        "from google.colab import drive\n",
        "drive.mount('/content/drive')\n",
        "dataset=pd.read_csv('/content/drive/MyDrive/neural.csv')\n"
      ],
      "metadata": {
        "id": "uK-TrGyEeGKt"
      },
      "execution_count": null,
      "outputs": []
    },
    {
      "cell_type": "code",
      "source": [
        "dependent_variable='label'\n",
        "independent_variables=dataset.columns.tolist()\n",
        "independent_variables.remove(dependent_variable)\n",
        "X=dataset[independent_variables].values\n",
        "Y=dataset[dependent_variable].values\n",
        "X_train, X_test,Y_train,Y_test=train_test_split(X,Y,test_size=0.2,random_state=0)\n",
        "scaler=MinMaxScaler()\n",
        "X_train=scaler.fit_transform(X_train)\n",
        "X_test=scaler.transform(X_test)"
      ],
      "metadata": {
        "id": "ILqTcuLeeYoK"
      },
      "execution_count": null,
      "outputs": []
    },
    {
      "cell_type": "code",
      "source": [
        "batch_size = 100\n",
        "\n",
        "trainset = TensorDataset(torch.FloatTensor(X_train), torch.LongTensor(Y_train))\n",
        "valset = TensorDataset(torch.FloatTensor(X_test), torch.LongTensor(Y_test))\n",
        "trainloader = DataLoader(trainset, batch_size=batch_size, shuffle=False)\n",
        "valloader= DataLoader(valset, batch_size=batch_size, shuffle=False) \n"
      ],
      "metadata": {
        "id": "-Urf3mg7ftsA"
      },
      "execution_count": null,
      "outputs": []
    },
    {
      "cell_type": "code",
      "source": [
        "input_size = 784\n",
        "hidden_sizes = [200, 100]\n",
        "output_size = 10\n",
        "\n",
        "model = nn.Sequential(nn.Linear(input_size, hidden_sizes[0]),\n",
        "                      nn.ReLU(),\n",
        "                      nn.Linear(hidden_sizes[0], hidden_sizes[1]),\n",
        "                      nn.ReLU(),\n",
        "                      nn.Linear(hidden_sizes[1], output_size),\n",
        "                      nn.LogSoftmax(dim=1))\n",
        "print(model)"
      ],
      "metadata": {
        "id": "XrPH3YxniQ5J"
      },
      "execution_count": null,
      "outputs": []
    },
    {
      "cell_type": "code",
      "source": [
        "criterion = nn.NLLLoss()\n",
        "images, labels = next(iter(trainloader))\n",
        "images = images.view(images.shape[0], -1)\n",
        "\n",
        "logps = model(images) #log probabilities\n",
        "loss = criterion(logps, labels) #calculate the NLL loss"
      ],
      "metadata": {
        "id": "J5Rmg3pniVur"
      },
      "execution_count": null,
      "outputs": []
    },
    {
      "cell_type": "code",
      "source": [
        "optimizer = optim.SGD(model.parameters(), lr=0.003, momentum=0.9)\n",
        "time0 = time()\n",
        "epochs = 20\n",
        "for e in range(epochs):\n",
        "    running_loss = 0\n",
        "    for images, labels in trainloader:\n",
        "        \n",
        "        images = images.view(images.shape[0], -1)\n",
        "    \n",
        "        optimizer.zero_grad()\n",
        "        \n",
        "        output = model(images)\n",
        "        loss = criterion(output, labels)\n",
        "      \n",
        "        loss.backward()\n",
        "        \n",
        "        optimizer.step()\n",
        "        \n",
        "        running_loss += loss.item()\n",
        "    else:\n",
        "        print(\"Epoch {} - Training loss: {}\".format(e, running_loss/len(trainloader)))\n",
        "print(\"\\nTraining Time (in minutes) =\",(time()-time0)/60)"
      ],
      "metadata": {
        "colab": {
          "base_uri": "https://localhost:8080/"
        },
        "id": "y8MS8CrKijYV",
        "outputId": "74e12a75-624f-495f-9805-bd7eff8578ce"
      },
      "execution_count": null,
      "outputs": [
        {
          "output_type": "stream",
          "name": "stdout",
          "text": [
            "Epoch 0 - Training loss: 0.08747307630255818\n",
            "Epoch 1 - Training loss: 0.08665395262651146\n",
            "Epoch 2 - Training loss: 0.08463322226889432\n",
            "Epoch 3 - Training loss: 0.08292756923474372\n",
            "Epoch 4 - Training loss: 0.0820821040775627\n",
            "Epoch 5 - Training loss: 0.08057637321762741\n",
            "Epoch 6 - Training loss: 0.07883739760145544\n",
            "Epoch 7 - Training loss: 0.07803220944479108\n",
            "Epoch 8 - Training loss: 0.07717286339029669\n",
            "Epoch 9 - Training loss: 0.0763358814176172\n",
            "Epoch 10 - Training loss: 0.0756054432829842\n",
            "Epoch 11 - Training loss: 0.07521733297035098\n",
            "Epoch 12 - Training loss: 0.07434921094682068\n",
            "Epoch 13 - Training loss: 0.07397966815624386\n",
            "Epoch 14 - Training loss: 0.07398648359812796\n",
            "Epoch 15 - Training loss: 0.07371154753491282\n",
            "Epoch 16 - Training loss: 0.07364574030507356\n",
            "Epoch 17 - Training loss: 0.07459187032654882\n",
            "Epoch 18 - Training loss: 0.07473533970769494\n",
            "Epoch 19 - Training loss: 0.0760587310884148\n",
            "\n",
            "Training Time (in minutes) = 0.0966145634651184\n"
          ]
        }
      ]
    },
    {
      "cell_type": "code",
      "source": [
        "correct_count, all_count = 0, 0\n",
        "for images,labels in valloader:\n",
        "  for i in range(len(labels)):\n",
        "    img = images[i].view(1, 784)\n",
        "    with torch.no_grad():\n",
        "        logps = model(img)\n",
        "\n",
        "    \n",
        "    ps = torch.exp(logps)\n",
        "    probab = list(ps.numpy()[0])\n",
        "    pred_label = probab.index(max(probab))\n",
        "    true_label = labels.numpy()[i]\n",
        "    if(true_label == pred_label):\n",
        "      correct_count += 1\n",
        "    all_count += 1\n",
        "\n",
        "print(\"Accuracy % =\", ((correct_count/all_count)*100))"
      ],
      "metadata": {
        "colab": {
          "base_uri": "https://localhost:8080/"
        },
        "id": "JkZf_Zl5ixQZ",
        "outputId": "0292f7f2-e446-42f1-8cdd-d1f3b454a20f"
      },
      "execution_count": null,
      "outputs": [
        {
          "output_type": "stream",
          "name": "stdout",
          "text": [
            "Accuracy % = 83.8\n"
          ]
        }
      ]
    }
  ]
}