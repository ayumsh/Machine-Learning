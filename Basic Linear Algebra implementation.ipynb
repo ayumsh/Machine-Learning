{
  "nbformat": 4,
  "nbformat_minor": 0,
  "metadata": {
    "colab": {
      "provenance": [],
      "collapsed_sections": []
    },
    "kernelspec": {
      "name": "python3",
      "display_name": "Python 3"
    },
    "language_info": {
      "name": "python"
    }
  },
  "cells": [
    {
      "cell_type": "code",
      "execution_count": 197,
      "metadata": {
        "id": "FYZHoCli7211"
      },
      "outputs": [],
      "source": [
        "import numpy as np\n",
        "from sympy import * \n",
        "from scipy.linalg import solve"
      ]
    },
    {
      "cell_type": "code",
      "source": [
        "#q5"
      ],
      "metadata": {
        "id": "0T65RDBrOOb3"
      },
      "execution_count": 198,
      "outputs": []
    },
    {
      "cell_type": "code",
      "source": [
        "m1 = np.random.randint(7, size=(5, 2))\n",
        "m2 = np.random.randint(7, size=(2, 4))\n",
        "dot=np.dot(m1,m2)\n",
        "print(dot)"
      ],
      "metadata": {
        "colab": {
          "base_uri": "https://localhost:8080/"
        },
        "id": "1k5WewWc8Ge6",
        "outputId": "a2b45dbd-98dd-4b86-ab4b-5364329d71c6"
      },
      "execution_count": 199,
      "outputs": [
        {
          "output_type": "stream",
          "name": "stdout",
          "text": [
            "[[ 8  8 12 16]\n",
            " [19 24 11 38]\n",
            " [ 8 10  5 16]\n",
            " [13 16  9 26]\n",
            " [13 16  9 26]]\n"
          ]
        }
      ]
    },
    {
      "cell_type": "markdown",
      "source": [
        "rank of the matrix above is 2\n",
        "\n",
        "column 3 and column 4 are dependent on column 1 and column 2\n"
      ],
      "metadata": {
        "id": "KfaEY0l29paZ"
      }
    },
    {
      "cell_type": "code",
      "source": [
        "# importing library sympy\n",
        "from sympy import symbols, Eq, solve\n",
        "\n",
        "# defining symbols used in equations\n",
        "# or unknown variables\n",
        "x, y = symbols('x,y')\n",
        "\n",
        "# defining equations\n",
        "eq1 = Eq((x*dot[0][0]+y*dot[0][1]),dot[0][2])\n",
        "print(\"Equation 1:\")\n",
        "print(eq1)\n",
        "eq2 = Eq((x*dot[1][0]+y*dot[1][1]), dot[1][2])\n",
        "print(\"Equation 2\")\n",
        "print(eq2)\n",
        "# solving the equation\n",
        "print(\"Values of 2 unknown variable are as follows:\")\n",
        "print(solve((eq1, eq2), (x,y)))\n",
        "sol=(solve((eq1, eq2), (x,y)))\n",
        "\n",
        "\n",
        "\n",
        "x1, y1 = symbols('x1,y1')\n",
        "# defining equations\n",
        "eq3 = Eq((x1*dot[0][0]+y1*dot[0][1]),dot[0][3])\n",
        "print(\"Equation 1:\")\n",
        "print(eq3)\n",
        "eq4= Eq((x1*dot[1][0]+y1*dot[1][1]), dot[1][3])\n",
        "print(\"Equation 2\")\n",
        "print(eq4)\n",
        "# solving the equation\n",
        "print(\"Values of 2 unknown variable are as follows:\")\n",
        "print(solve((eq3, eq4), (x1, y1)))\n",
        "sol1=(solve((eq3, eq4), (x1, y1)))\n",
        "\n",
        "\n",
        "x2, y2 = symbols('x2,y2')\n",
        "# defining equations\n",
        "eq5 = Eq((x2*sol[x]+y2*sol1[x1]),-1)\n",
        "print(\"Equation 1:\")\n",
        "print(eq5)\n",
        "eq6 = Eq((x2*sol[y]+y2*sol1[y1]),-1)\n",
        "print(\"Equation 2\")\n",
        "print(eq6)\n",
        "# solving the equation\n",
        "print(\"Values of 2 unknown variable are as follows:\")\n",
        "print(solve((eq5, eq6), (x2, y2)))\n",
        "\n",
        "sol2=(solve((eq5, eq6), (x2, y2)))\n",
        "\n"
      ],
      "metadata": {
        "colab": {
          "base_uri": "https://localhost:8080/"
        },
        "id": "xcuZGcsUkf9P",
        "outputId": "cdfae48f-fe49-4630-d04b-ff95292cac66"
      },
      "execution_count": 200,
      "outputs": [
        {
          "output_type": "stream",
          "name": "stdout",
          "text": [
            "Equation 1:\n",
            "Eq(8*x + 8*y, 12)\n",
            "Equation 2\n",
            "Eq(19*x + 24*y, 11)\n",
            "Values of 2 unknown variable are as follows:\n",
            "{x: 5, y: -7/2}\n",
            "Equation 1:\n",
            "Eq(8*x1 + 8*y1, 16)\n",
            "Equation 2\n",
            "Eq(19*x1 + 24*y1, 38)\n",
            "Values of 2 unknown variable are as follows:\n",
            "{x1: 2, y1: 0}\n",
            "Equation 1:\n",
            "Eq(5*x2 + 2*y2, -1)\n",
            "Equation 2\n",
            "Eq(-7*x2/2, -1)\n",
            "Values of 2 unknown variable are as follows:\n",
            "{x2: 2/7, y2: -17/14}\n"
          ]
        }
      ]
    },
    {
      "cell_type": "markdown",
      "source": [
        "b can be=[0,0,0,0],\n",
        "\n",
        "\n",
        "\n",
        "\n",
        "then solutions of Ax=b will be\n",
        "\n",
        "\n",
        "[1,1,sol2[x2],sol2[y2]]*i"
      ],
      "metadata": {
        "id": "vAOnGj7SHWIA"
      }
    },
    {
      "cell_type": "code",
      "source": [
        "for i in range(100):\n",
        "  print(\"[\",i+1,i+1,sol2[x2]*(i+1),sol2[y2]*(i+1),\"]\")\n",
        "\n"
      ],
      "metadata": {
        "colab": {
          "base_uri": "https://localhost:8080/"
        },
        "id": "jXyxer7rHo6e",
        "outputId": "0f578a49-7b03-494c-e5f1-6161e1110509"
      },
      "execution_count": 201,
      "outputs": [
        {
          "output_type": "stream",
          "name": "stdout",
          "text": [
            "[ 1 1 2/7 -17/14 ]\n",
            "[ 2 2 4/7 -17/7 ]\n",
            "[ 3 3 6/7 -51/14 ]\n",
            "[ 4 4 8/7 -34/7 ]\n",
            "[ 5 5 10/7 -85/14 ]\n",
            "[ 6 6 12/7 -51/7 ]\n",
            "[ 7 7 2 -17/2 ]\n",
            "[ 8 8 16/7 -68/7 ]\n",
            "[ 9 9 18/7 -153/14 ]\n",
            "[ 10 10 20/7 -85/7 ]\n",
            "[ 11 11 22/7 -187/14 ]\n",
            "[ 12 12 24/7 -102/7 ]\n",
            "[ 13 13 26/7 -221/14 ]\n",
            "[ 14 14 4 -17 ]\n",
            "[ 15 15 30/7 -255/14 ]\n",
            "[ 16 16 32/7 -136/7 ]\n",
            "[ 17 17 34/7 -289/14 ]\n",
            "[ 18 18 36/7 -153/7 ]\n",
            "[ 19 19 38/7 -323/14 ]\n",
            "[ 20 20 40/7 -170/7 ]\n",
            "[ 21 21 6 -51/2 ]\n",
            "[ 22 22 44/7 -187/7 ]\n",
            "[ 23 23 46/7 -391/14 ]\n",
            "[ 24 24 48/7 -204/7 ]\n",
            "[ 25 25 50/7 -425/14 ]\n",
            "[ 26 26 52/7 -221/7 ]\n",
            "[ 27 27 54/7 -459/14 ]\n",
            "[ 28 28 8 -34 ]\n",
            "[ 29 29 58/7 -493/14 ]\n",
            "[ 30 30 60/7 -255/7 ]\n",
            "[ 31 31 62/7 -527/14 ]\n",
            "[ 32 32 64/7 -272/7 ]\n",
            "[ 33 33 66/7 -561/14 ]\n",
            "[ 34 34 68/7 -289/7 ]\n",
            "[ 35 35 10 -85/2 ]\n",
            "[ 36 36 72/7 -306/7 ]\n",
            "[ 37 37 74/7 -629/14 ]\n",
            "[ 38 38 76/7 -323/7 ]\n",
            "[ 39 39 78/7 -663/14 ]\n",
            "[ 40 40 80/7 -340/7 ]\n",
            "[ 41 41 82/7 -697/14 ]\n",
            "[ 42 42 12 -51 ]\n",
            "[ 43 43 86/7 -731/14 ]\n",
            "[ 44 44 88/7 -374/7 ]\n",
            "[ 45 45 90/7 -765/14 ]\n",
            "[ 46 46 92/7 -391/7 ]\n",
            "[ 47 47 94/7 -799/14 ]\n",
            "[ 48 48 96/7 -408/7 ]\n",
            "[ 49 49 14 -119/2 ]\n",
            "[ 50 50 100/7 -425/7 ]\n",
            "[ 51 51 102/7 -867/14 ]\n",
            "[ 52 52 104/7 -442/7 ]\n",
            "[ 53 53 106/7 -901/14 ]\n",
            "[ 54 54 108/7 -459/7 ]\n",
            "[ 55 55 110/7 -935/14 ]\n",
            "[ 56 56 16 -68 ]\n",
            "[ 57 57 114/7 -969/14 ]\n",
            "[ 58 58 116/7 -493/7 ]\n",
            "[ 59 59 118/7 -1003/14 ]\n",
            "[ 60 60 120/7 -510/7 ]\n",
            "[ 61 61 122/7 -1037/14 ]\n",
            "[ 62 62 124/7 -527/7 ]\n",
            "[ 63 63 18 -153/2 ]\n",
            "[ 64 64 128/7 -544/7 ]\n",
            "[ 65 65 130/7 -1105/14 ]\n",
            "[ 66 66 132/7 -561/7 ]\n",
            "[ 67 67 134/7 -1139/14 ]\n",
            "[ 68 68 136/7 -578/7 ]\n",
            "[ 69 69 138/7 -1173/14 ]\n",
            "[ 70 70 20 -85 ]\n",
            "[ 71 71 142/7 -1207/14 ]\n",
            "[ 72 72 144/7 -612/7 ]\n",
            "[ 73 73 146/7 -1241/14 ]\n",
            "[ 74 74 148/7 -629/7 ]\n",
            "[ 75 75 150/7 -1275/14 ]\n",
            "[ 76 76 152/7 -646/7 ]\n",
            "[ 77 77 22 -187/2 ]\n",
            "[ 78 78 156/7 -663/7 ]\n",
            "[ 79 79 158/7 -1343/14 ]\n",
            "[ 80 80 160/7 -680/7 ]\n",
            "[ 81 81 162/7 -1377/14 ]\n",
            "[ 82 82 164/7 -697/7 ]\n",
            "[ 83 83 166/7 -1411/14 ]\n",
            "[ 84 84 24 -102 ]\n",
            "[ 85 85 170/7 -1445/14 ]\n",
            "[ 86 86 172/7 -731/7 ]\n",
            "[ 87 87 174/7 -1479/14 ]\n",
            "[ 88 88 176/7 -748/7 ]\n",
            "[ 89 89 178/7 -1513/14 ]\n",
            "[ 90 90 180/7 -765/7 ]\n",
            "[ 91 91 26 -221/2 ]\n",
            "[ 92 92 184/7 -782/7 ]\n",
            "[ 93 93 186/7 -1581/14 ]\n",
            "[ 94 94 188/7 -799/7 ]\n",
            "[ 95 95 190/7 -1615/14 ]\n",
            "[ 96 96 192/7 -816/7 ]\n",
            "[ 97 97 194/7 -1649/14 ]\n",
            "[ 98 98 28 -119 ]\n",
            "[ 99 99 198/7 -1683/14 ]\n",
            "[ 100 100 200/7 -850/7 ]\n"
          ]
        }
      ]
    },
    {
      "cell_type": "markdown",
      "source": [
        "these are 100 solutions for Ax=b\n",
        "there can be infinity of these solutions"
      ],
      "metadata": {
        "id": "xuVjbZVbIj1_"
      }
    },
    {
      "cell_type": "code",
      "source": [
        "#q6"
      ],
      "metadata": {
        "id": "VRUq93LKOTD8"
      },
      "execution_count": null,
      "outputs": []
    },
    {
      "cell_type": "code",
      "source": [
        "m1 = np.random.randint(10, size=(3, 3))\n",
        "m2 = np.random.randint(10, size=(3, 4))\n",
        "A=np.dot(m1,m2)\n",
        "print(A)"
      ],
      "metadata": {
        "id": "jntcDnHv-kPA",
        "colab": {
          "base_uri": "https://localhost:8080/"
        },
        "outputId": "13643249-dce3-421e-b28d-c9d1bbe98bd4"
      },
      "execution_count": 202,
      "outputs": [
        {
          "output_type": "stream",
          "name": "stdout",
          "text": [
            "[[73  8 47 44]\n",
            " [71 18 46 55]\n",
            " [32 14 15 33]]\n"
          ]
        }
      ]
    },
    {
      "cell_type": "code",
      "source": [
        "rank=np.linalg.matrix_rank(A)\n",
        "print(rank)"
      ],
      "metadata": {
        "colab": {
          "base_uri": "https://localhost:8080/"
        },
        "id": "H0Zf5SE0G1Mr",
        "outputId": "ac2d4c98-c950-4016-d576-2c61ed03b3cb"
      },
      "execution_count": 203,
      "outputs": [
        {
          "output_type": "stream",
          "name": "stdout",
          "text": [
            "3\n"
          ]
        }
      ]
    },
    {
      "cell_type": "code",
      "source": [
        "from sympy import * \n",
        "  \n",
        "M = Matrix([[A[0][0], A[0][1], A[0][2], A[0][3]], [A[1][0], A[1][1], A[1][2], A[1][3]], [A[2][0], A[2][1], A[2][2], A[2][3]]])\n",
        "print(\"Matrix : {} \".format(M))\n",
        "\n",
        "# Use sympy.nullspace() method \n",
        "M_nullspace = M.nullspace()  \n",
        "      \n",
        "print(\"Nullspace of a matrix : {}\".format(M_nullspace))  "
      ],
      "metadata": {
        "colab": {
          "base_uri": "https://localhost:8080/"
        },
        "id": "pCzvloePJFjn",
        "outputId": "fb8b88d2-d112-4d07-8d4c-2457152dcc71"
      },
      "execution_count": 204,
      "outputs": [
        {
          "output_type": "stream",
          "name": "stdout",
          "text": [
            "Matrix : Matrix([[73, 8, 47, 44], [71, 18, 46, 55], [32, 14, 15, 33]]) \n",
            "Nullspace of a matrix : [Matrix([\n",
            "[-3/5],\n",
            "[-6/5],\n",
            "[ 1/5],\n",
            "[   1]])]\n"
          ]
        }
      ]
    },
    {
      "cell_type": "code",
      "source": [
        "M1 = Matrix([[A[0][0],A[1][0],A[2][0]],[A[0][1],A[1][1],A[2][1]],[A[0][2],A[1][2],A[2][2]],[A[0][3],A[1][3],A[2][3]]])\n",
        "print(\"Matrix : {} \".format(M))\n",
        "\n",
        "# Use sympy.nullspace() method \n",
        "M1_nullspace = M1.nullspace()  \n",
        "      \n",
        "print(\"left Nullspace of a matrix : {}\".format(M1_nullspace)) "
      ],
      "metadata": {
        "colab": {
          "base_uri": "https://localhost:8080/"
        },
        "id": "dGSOTxyJL9sr",
        "outputId": "50bd4a1f-88b8-4d9e-a51e-0e3d78d2451a"
      },
      "execution_count": 205,
      "outputs": [
        {
          "output_type": "stream",
          "name": "stdout",
          "text": [
            "Matrix : Matrix([[73, 8, 47, 44], [71, 18, 46, 55], [32, 14, 15, 33]]) \n",
            "left Nullspace of a matrix : []\n"
          ]
        }
      ]
    },
    {
      "cell_type": "markdown",
      "source": [
        "null space have 1 vector (n-r)=(4-3)=1\n",
        "and \n",
        "left null space is empty (m-r)=(3-3)=0"
      ],
      "metadata": {
        "id": "fd_Xrq9uNEvc"
      }
    },
    {
      "cell_type": "code",
      "source": [
        "#q7"
      ],
      "metadata": {
        "id": "dhdJsp4yNXx0"
      },
      "execution_count": null,
      "outputs": []
    },
    {
      "cell_type": "markdown",
      "source": [
        "rank of matrix A is 3\n",
        "\n",
        "columns of A span the whole 3-D space\n",
        "\n",
        "so there is no value of b such that b Ax=b has no solution\n",
        "\n"
      ],
      "metadata": {
        "id": "SBG2T75kKai2"
      }
    },
    {
      "cell_type": "code",
      "source": [
        "#q8"
      ],
      "metadata": {
        "id": "dMEH1OKTQvSu"
      },
      "execution_count": null,
      "outputs": []
    },
    {
      "cell_type": "code",
      "source": [
        "A = [[1,2,3,4],[2,3,4,5],[5,8,11,14],[3,5,7,9]]\n",
        "\n",
        "count =0\n",
        "\n",
        "while(count<10):\n",
        "    b=np.random.randint(10, size = (4,1))\n",
        "    res = np.hstack((A,b))\n",
        "#if b is not in col space of A will increase the rank of matrix res\n",
        "    rank = np.linalg.matrix_rank(res)\n",
        "    if rank==3:\n",
        "        print(b)\n",
        "        count+=1"
      ],
      "metadata": {
        "colab": {
          "base_uri": "https://localhost:8080/"
        },
        "id": "wkwCuXXLBQCI",
        "outputId": "abd9cd63-954e-4214-bf4f-43c01dc8fea3"
      },
      "execution_count": 206,
      "outputs": [
        {
          "output_type": "stream",
          "name": "stdout",
          "text": [
            "[[7]\n",
            " [2]\n",
            " [3]\n",
            " [1]]\n",
            "[[7]\n",
            " [9]\n",
            " [3]\n",
            " [1]]\n",
            "[[8]\n",
            " [5]\n",
            " [4]\n",
            " [1]]\n",
            "[[3]\n",
            " [7]\n",
            " [3]\n",
            " [0]]\n",
            "[[5]\n",
            " [8]\n",
            " [2]\n",
            " [5]]\n",
            "[[2]\n",
            " [6]\n",
            " [9]\n",
            " [2]]\n",
            "[[4]\n",
            " [6]\n",
            " [1]\n",
            " [3]]\n",
            "[[3]\n",
            " [5]\n",
            " [3]\n",
            " [7]]\n",
            "[[4]\n",
            " [2]\n",
            " [9]\n",
            " [0]]\n",
            "[[3]\n",
            " [9]\n",
            " [9]\n",
            " [8]]\n"
          ]
        }
      ]
    },
    {
      "cell_type": "code",
      "source": [
        "#q9"
      ],
      "metadata": {
        "id": "k_T8rnopZRDo"
      },
      "execution_count": null,
      "outputs": []
    },
    {
      "cell_type": "code",
      "source": [
        "array = np.array([[1,0],[0,1],[0,0]])\n",
        "b=np.array([[1],[1],[1]])\n",
        "x9=np.dot(array.T,array)\n",
        "x9=np.linalg.inv(x9)\n",
        "x10=np.dot(x9,array.T)\n",
        "x12=np.dot(x10,b)\n",
        "print(x12)"
      ],
      "metadata": {
        "colab": {
          "base_uri": "https://localhost:8080/"
        },
        "id": "Ud1ZKjX1huvj",
        "outputId": "1410acce-6a0e-4be1-df53-b2ac7d187fb8"
      },
      "execution_count": 207,
      "outputs": [
        {
          "output_type": "stream",
          "name": "stdout",
          "text": [
            "[[1.]\n",
            " [1.]]\n"
          ]
        }
      ]
    },
    {
      "cell_type": "markdown",
      "source": [
        "approximate solution is (1,1,0)\n",
        "\n",
        "(1,1,1) cannot be represented in as Ax=b because span of column space of A does not contain (1,1,1)\n",
        "\n",
        "closest point on span of column space of A is(1,1,0)"
      ],
      "metadata": {
        "id": "m9eGzUU8lrkF"
      }
    },
    {
      "cell_type": "code",
      "source": [
        "#q10\n"
      ],
      "metadata": {
        "id": "eygipCkPm2bm"
      },
      "execution_count": null,
      "outputs": []
    },
    {
      "cell_type": "code",
      "source": [
        "import matplotlib.pyplot as plt\n",
        "import numpy as np\n",
        "with open('t.txt','r',encoding = 'utf8') as f:\n",
        "    data = f.read()\n",
        "data = data.split('\\n')  \n",
        "x = [float(raw.split()[0]) for raw in data]\n",
        "y = [float(raw.split()[1]) for raw in data]\n",
        "plt.scatter(x, y, marker='x', c='r') \n",
        "plt.show()"
      ],
      "metadata": {
        "colab": {
          "base_uri": "https://localhost:8080/",
          "height": 265
        },
        "id": "rYi6XTwBm4XS",
        "outputId": "2a9d4827-925f-4640-9e29-37311f695715"
      },
      "execution_count": 256,
      "outputs": [
        {
          "output_type": "display_data",
          "data": {
            "text/plain": [
              "<Figure size 432x288 with 1 Axes>"
            ],
            "image/png": "[encoded data removed]"
          },
          "metadata": {
            "needs_background": "light"
          }
        }
      ]
    },
    {
      "cell_type": "code",
      "source": [
        "x=np.float_(x)\n",
        "y=np.float_(y)"
      ],
      "metadata": {
        "id": "F0d9HV5N2oVR"
      },
      "execution_count": 257,
      "outputs": []
    },
    {
      "cell_type": "code",
      "source": [
        "m, b = np.polyfit(x, y, 1)"
      ],
      "metadata": {
        "id": "WR5_KkTXNad-"
      },
      "execution_count": 258,
      "outputs": []
    },
    {
      "cell_type": "code",
      "source": [
        "plt.plot(x, y, 'o')\n",
        "plt.plot(x, m*x + b)"
      ],
      "metadata": {
        "colab": {
          "base_uri": "https://localhost:8080/",
          "height": 282
        },
        "id": "fJOLZWPBxpUc",
        "outputId": "5bb6d4ae-8ca5-4455-d3eb-fd5dd147ebd2"
      },
      "execution_count": 259,
      "outputs": [
        {
          "output_type": "execute_result",
          "data": {
            "text/plain": [
              "[<matplotlib.lines.Line2D at 0x7f5d3c4da1d0>]"
            ]
          },
          "metadata": {},
          "execution_count": 259
        },
        {
          "output_type": "display_data",
          "data": {
            "text/plain": [
              "<Figure size 432x288 with 1 Axes>"
            ],
            "image/png": "[encoded data removed]"
          },
          "metadata": {
            "needs_background": "light"
          }
        }
      ]
    },
    {
      "cell_type": "code",
      "source": [
        "n=0\n",
        "for i in x:\n",
        "  n+=1\n"
      ],
      "metadata": {
        "id": "P3l6JU5IWiML"
      },
      "execution_count": 260,
      "outputs": []
    },
    {
      "cell_type": "code",
      "source": [
        "error1=0\n",
        "count=0\n",
        "for i in range(n):\n",
        "  error1+=((x[i]*m+b)-y[i])**2\n",
        "  count+=1\n",
        "error1=error1/count\n",
        "print(error1)\n"
      ],
      "metadata": {
        "colab": {
          "base_uri": "https://localhost:8080/"
        },
        "id": "sETExmqLQwbB",
        "outputId": "2c60c9e5-d0cb-41e7-cfbb-23fddfd18897"
      },
      "execution_count": 261,
      "outputs": [
        {
          "output_type": "stream",
          "name": "stdout",
          "text": [
            "0.26400852003969955\n"
          ]
        }
      ]
    },
    {
      "cell_type": "code",
      "source": [
        "a, m, b = np.polyfit(x, y, 2)"
      ],
      "metadata": {
        "id": "S-GhaoBWOSXx"
      },
      "execution_count": 262,
      "outputs": []
    },
    {
      "cell_type": "code",
      "source": [
        "plt.plot(x, y, 'o')\n",
        "plt.plot(x, m*x +a*x*x+ b)"
      ],
      "metadata": {
        "colab": {
          "base_uri": "https://localhost:8080/",
          "height": 282
        },
        "id": "nOMVz2BwOXLP",
        "outputId": "b5aa6f64-5a85-4ae5-b5b7-9e0eeecfffb6"
      },
      "execution_count": 263,
      "outputs": [
        {
          "output_type": "execute_result",
          "data": {
            "text/plain": [
              "[<matplotlib.lines.Line2D at 0x7f5d3c447410>]"
            ]
          },
          "metadata": {},
          "execution_count": 263
        },
        {
          "output_type": "display_data",
          "data": {
            "text/plain": [
              "<Figure size 432x288 with 1 Axes>"
            ],
            "image/png": "[encoded data removed]"
          },
          "metadata": {
            "needs_background": "light"
          }
        }
      ]
    },
    {
      "cell_type": "code",
      "source": [
        "error1=0\n",
        "count=0\n",
        "for i in range(n):\n",
        "  error1+=((x[i]*x[i]*a+x[i]*m+b)-y[i])**2\n",
        "  count+=1\n",
        "error1=error1/count\n",
        "print(error1)"
      ],
      "metadata": {
        "colab": {
          "base_uri": "https://localhost:8080/"
        },
        "id": "pM9bgNyKQvDI",
        "outputId": "18787d6b-6ffc-4bc1-c5ab-d62ccfaf1904"
      },
      "execution_count": 264,
      "outputs": [
        {
          "output_type": "stream",
          "name": "stdout",
          "text": [
            "0.16379827969870636\n"
          ]
        }
      ]
    },
    {
      "cell_type": "code",
      "source": [
        "a,c, m, b = np.polyfit(x, y, 3)"
      ],
      "metadata": {
        "id": "S0R6a7tWOpWI"
      },
      "execution_count": 265,
      "outputs": []
    },
    {
      "cell_type": "code",
      "source": [
        "plt.plot(x, y, 'o')\n",
        "plt.plot(x, m*x +a*x*x*x + c*x*x + b)"
      ],
      "metadata": {
        "colab": {
          "base_uri": "https://localhost:8080/",
          "height": 282
        },
        "id": "aem1IQRPOtSU",
        "outputId": "e6326a32-d693-4e1c-dad2-d6041ae92acc"
      },
      "execution_count": 266,
      "outputs": [
        {
          "output_type": "execute_result",
          "data": {
            "text/plain": [
              "[<matplotlib.lines.Line2D at 0x7f5d3c3b5c90>]"
            ]
          },
          "metadata": {},
          "execution_count": 266
        },
        {
          "output_type": "display_data",
          "data": {
            "text/plain": [
              "<Figure size 432x288 with 1 Axes>"
            ],
            "image/png": "[encoded data removed]"
          },
          "metadata": {
            "needs_background": "light"
          }
        }
      ]
    },
    {
      "cell_type": "code",
      "source": [
        "error1=0\n",
        "count=0\n",
        "for i in range(n):\n",
        "  error1+=((x[i]*x[i]*x[i]*a+  x[i]*x[i]*c  +  x[i]*m+b)-y[i])**2\n",
        "  count+=1\n",
        "error1=error1/count\n",
        "print(error1)"
      ],
      "metadata": {
        "colab": {
          "base_uri": "https://localhost:8080/"
        },
        "id": "BS5MeZSFX_LL",
        "outputId": "393bb237-c71a-4780-eae0-39952b0d33e3"
      },
      "execution_count": 267,
      "outputs": [
        {
          "output_type": "stream",
          "name": "stdout",
          "text": [
            "0.044078960502531975\n"
          ]
        }
      ]
    },
    {
      "cell_type": "code",
      "source": [
        "a,c,t, m, b = np.polyfit(x, y, 4)"
      ],
      "metadata": {
        "id": "jfGVAIbRPBKU"
      },
      "execution_count": 268,
      "outputs": []
    },
    {
      "cell_type": "code",
      "source": [
        "plt.plot(x, y, 'o')\n",
        "plt.plot(x, m*x +a*x*x*x*x + c*x*x*x+ t*x*x + b)"
      ],
      "metadata": {
        "colab": {
          "base_uri": "https://localhost:8080/",
          "height": 282
        },
        "id": "szhdxYfSPG4f",
        "outputId": "d7fcd593-d3ce-4deb-f63b-013b85b4ff20"
      },
      "execution_count": 269,
      "outputs": [
        {
          "output_type": "execute_result",
          "data": {
            "text/plain": [
              "[<matplotlib.lines.Line2D at 0x7f5d3c35d110>]"
            ]
          },
          "metadata": {},
          "execution_count": 269
        },
        {
          "output_type": "display_data",
          "data": {
            "text/plain": [
              "<Figure size 432x288 with 1 Axes>"
            ],
            "image/png": "[encoded data removed]"
          },
          "metadata": {
            "needs_background": "light"
          }
        }
      ]
    },
    {
      "cell_type": "code",
      "source": [
        "error1=0\n",
        "count=0\n",
        "for i in range(n):\n",
        "  error1+=((x[i]*x[i]*x[i]*x[i]*a+  x[i]*x[i]*x[i]*c + x[i]*x[i]*t  +  x[i]*m+b)-y[i])**2\n",
        "  count+=1\n",
        "error1=error1/count\n",
        "print(error1)"
      ],
      "metadata": {
        "colab": {
          "base_uri": "https://localhost:8080/"
        },
        "id": "02J6TFo2YLxW",
        "outputId": "33065218-228b-43ce-c362-62930c22e0be"
      },
      "execution_count": 270,
      "outputs": [
        {
          "output_type": "stream",
          "name": "stdout",
          "text": [
            "0.032693346237245346\n"
          ]
        }
      ]
    }
  ]
}